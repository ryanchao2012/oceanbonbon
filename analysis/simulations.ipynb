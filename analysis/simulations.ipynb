{
 "cells": [
  {
   "cell_type": "code",
   "execution_count": 1,
   "metadata": {},
   "outputs": [],
   "source": [
    "from fish import (\n",
    "    FishLocation, FPoint, FVector,\n",
    "    lon_normalize, next_location,\n",
    "    HarvestPattern, InBoundPattern,\n",
    "    OutBoundPattern, TrawlingPattern\n",
    ")\n",
    "\n",
    "import pickle\n",
    "import random\n",
    "import pandas as pd\n",
    "import hashlib\n",
    "import datetime"
   ]
  },
  {
   "cell_type": "code",
   "execution_count": 2,
   "metadata": {},
   "outputs": [],
   "source": [
    "# datetime.datetime(2015, 2, 4, 14, 41, 59)\n",
    "reference_datetime = 1423032119\n",
    "datetimespan = 4 * 24 * 60 * 60"
   ]
  },
  {
   "cell_type": "markdown",
   "metadata": {},
   "source": [
    "# Simulated Ports"
   ]
  },
  {
   "cell_type": "code",
   "execution_count": 3,
   "metadata": {},
   "outputs": [],
   "source": [
    "# ports = dict(\n",
    "#     chilung=FishLocation('port', 'CHI-LUNG', FPoint(121.75, 25.7), FVector(0.03, 0.05)),\n",
    "# #     losangels=FishLocation('port', 'LOS-ANGELES', FPoint(-118.18, 33.75), FVector(0.03, 0.05)),\n",
    "#     korsakov=FishLocation('port', 'KORSAKOV', FPoint(142.75, 46.39), FVector(0.6, 0.6)),\n",
    "#     abashiri=FishLocation('port', 'ABASHIRI', FPoint(144.28, 44.02), FVector(0.5, 0.3)),\n",
    "# #     acapulco=FishLocation('port', 'ACAPULCO', FPoint(-99.93, 16.85), FVector(0.07, 0.05)),\n",
    "# )\n",
    "# pickle.dump(ports, open('ports.pkl', 'wb'))"
   ]
  },
  {
   "cell_type": "markdown",
   "metadata": {},
   "source": [
    "# Simulated Fisheries"
   ]
  },
  {
   "cell_type": "code",
   "execution_count": 4,
   "metadata": {},
   "outputs": [],
   "source": [
    "# lat_bound = FVector(20, 40)\n",
    "# lon_bound = FVector(140, 170)\n",
    "# size_bound = FVector(3, 6)\n",
    "# n = 30\n",
    "# fisheries = dict()\n",
    "# for i in range(1, n+1):\n",
    "# #     x = random.uniform(lon_bound.x, lon_bound.y)\n",
    "#     name = 'fishery{:02d}'.format(i)\n",
    "#     fisheries[name] = FishLocation(\n",
    "#         'fishery', name.upper(),\n",
    "#         FPoint(random.uniform(lon_bound.x, lon_bound.y), random.uniform(lat_bound.x, lat_bound.y)),\n",
    "#         FVector(random.uniform(size_bound.x, size_bound.y), random.uniform(size_bound.x, size_bound.y))\n",
    "#     )\n",
    "\n",
    "# pickle.dump(fisheries, open('fisheries.pkl', 'wb'))"
   ]
  },
  {
   "cell_type": "code",
   "execution_count": 3,
   "metadata": {},
   "outputs": [],
   "source": [
    "fisheries = pickle.load(open('fisheries.pkl', 'rb'))\n",
    "ports = pickle.load(open('ports.pkl', 'rb'))"
   ]
  },
  {
   "cell_type": "code",
   "execution_count": 6,
   "metadata": {},
   "outputs": [],
   "source": [
    "# fishery_data = [(k, v.type, v.name, v.center.x, v.center.y, v.radius.x) for k, v in fisheries.items()]\n",
    "# fishery_csv = pd.DataFrame(fishery_data, columns=['uuid', 'type', 'tag', 'longitude', 'latitude', 'radius'])\n",
    "# fishery_csv.to_csv('fishery.csv', index=False)"
   ]
  },
  {
   "cell_type": "code",
   "execution_count": 7,
   "metadata": {},
   "outputs": [],
   "source": [
    "# port_data = [(k, v.type, v.name, v.center.x, v.center.y, v.radius.x) for k, v in ports.items()]\n",
    "# port_csv = pd.DataFrame(port_data, columns=['uuid', 'type', 'tag', 'longitude', 'latitude', 'radius'])\n",
    "# port_csv.to_csv('port.csv', index=False)"
   ]
  },
  {
   "cell_type": "code",
   "execution_count": 4,
   "metadata": {},
   "outputs": [],
   "source": [
    "port_keys = list(ports.keys())\n",
    "fishery_keys = list(fisheries.keys())"
   ]
  },
  {
   "cell_type": "code",
   "execution_count": 5,
   "metadata": {},
   "outputs": [],
   "source": [
    "num_vessels = 50\n"
   ]
  },
  {
   "cell_type": "code",
   "execution_count": 7,
   "metadata": {},
   "outputs": [
    {
     "name": "stdout",
     "output_type": "stream",
     "text": [
      "# 1-th vessel tack generated.\n",
      "# 2-th vessel tack generated.\n",
      "# 3-th vessel tack generated.\n",
      "# 4-th vessel tack generated.\n",
      "# 5-th vessel tack generated.\n",
      "# 6-th vessel tack generated.\n",
      "# 7-th vessel tack generated.\n",
      "# 8-th vessel tack generated.\n",
      "# 9-th vessel tack generated.\n",
      "# 10-th vessel tack generated.\n",
      "# 11-th vessel tack generated.\n",
      "# 12-th vessel tack generated.\n",
      "# 13-th vessel tack generated.\n",
      "# 14-th vessel tack generated.\n",
      "# 15-th vessel tack generated.\n",
      "# 16-th vessel tack generated.\n",
      "# 17-th vessel tack generated.\n",
      "# 18-th vessel tack generated.\n",
      "# 19-th vessel tack generated.\n",
      "# 20-th vessel tack generated.\n",
      "# 21-th vessel tack generated.\n",
      "# 22-th vessel tack generated.\n",
      "# 23-th vessel tack generated.\n",
      "# 24-th vessel tack generated.\n",
      "# 25-th vessel tack generated.\n",
      "# 26-th vessel tack generated.\n",
      "# 27-th vessel tack generated.\n",
      "# 28-th vessel tack generated.\n",
      "# 29-th vessel tack generated.\n",
      "# 30-th vessel tack generated.\n",
      "# 31-th vessel tack generated.\n",
      "# 32-th vessel tack generated.\n",
      "# 33-th vessel tack generated.\n",
      "# 34-th vessel tack generated.\n",
      "# 35-th vessel tack generated.\n",
      "# 36-th vessel tack generated.\n",
      "# 37-th vessel tack generated.\n",
      "# 38-th vessel tack generated.\n",
      "# 39-th vessel tack generated.\n",
      "# 40-th vessel tack generated.\n",
      "# 41-th vessel tack generated.\n",
      "# 42-th vessel tack generated.\n",
      "# 43-th vessel tack generated.\n",
      "# 44-th vessel tack generated.\n",
      "# 45-th vessel tack generated.\n",
      "# 46-th vessel tack generated.\n",
      "# 47-th vessel tack generated.\n",
      "# 48-th vessel tack generated.\n",
      "# 49-th vessel tack generated.\n",
      "# 50-th vessel tack generated.\n"
     ]
    }
   ],
   "source": [
    "total_rows = []\n",
    "\n",
    "for k in range(num_vessels):\n",
    "    mmsi = 'mmsi{:d}'.format(k + 1)  # hashlib.md5(str(datetime.datetime.now()).encode('utf-8')).hexdigest()\n",
    "    trawling_probability = random.random() * 0.1\n",
    "    initial = ports[random.choice(port_keys)]\n",
    "    finish = ports[random.choice(port_keys)]\n",
    "    activities = FVector(5, 9)\n",
    "    num_activity = round(random.uniform(activities.x, activities.y))\n",
    "    \n",
    "    locations = []\n",
    "    for i in range(num_activity):\n",
    "        position = locations[-1].sampling() if len(locations) > 0 else initial.sampling()\n",
    "        locations.append(next_location(fishery_keys, fisheries, position=position, nearest=True))\n",
    "    \n",
    "    when = reference_datetime + int(round(random.uniform(0, datetimespan)))\n",
    "    sequences = []\n",
    "    sequences.extend(OutBoundPattern(initial, when, initial=initial.sampling()).generate(FVector(5.5, 0.5)))\n",
    "    for loc in locations:\n",
    "        ini = FPoint(sequences[-1].longitude, sequences[-1].latitude)\n",
    "        sofar = sequences[-1].timestemp\n",
    "        if random.random() > trawling_probability:\n",
    "            sequences.extend(HarvestPattern(loc, sofar, initial=ini).generate())\n",
    "        else:\n",
    "            sequences.extend(TrawlingPattern(loc, sofar, initial=ini).generate())\n",
    "    ini = FPoint(sequences[-1].longitude, sequences[-1].latitude)\n",
    "    sofar = sequences[-1].timestemp\n",
    "    sequences.extend(InBoundPattern(finish, sofar, initial=ini).generate())\n",
    "    \n",
    "    data = [(seq.label, seq.timestemp, seq.longitude, seq.latitude) for seq in sequences]\n",
    "    \n",
    "    df = pd.DataFrame(data, columns=['tag', 'timestamp', 'longitude', 'latitude'])\n",
    "    df['uuid'] = mmsi\n",
    "    df['type'] = 'vessel'\n",
    "    \n",
    "    total_rows.append(df)\n",
    "    \n",
    "    print('# {}-th vessel tack generated.'.format(k + 1))\n"
   ]
  },
  {
   "cell_type": "code",
   "execution_count": 8,
   "metadata": {},
   "outputs": [],
   "source": [
    "total_rows = pd.concat(total_rows)"
   ]
  },
  {
   "cell_type": "code",
   "execution_count": 9,
   "metadata": {},
   "outputs": [
    {
     "data": {
      "text/plain": [
       "(2417273, 6)"
      ]
     },
     "execution_count": 9,
     "metadata": {},
     "output_type": "execute_result"
    }
   ],
   "source": [
    "total_rows.shape"
   ]
  },
  {
   "cell_type": "code",
   "execution_count": 10,
   "metadata": {},
   "outputs": [
    {
     "data": {
      "text/html": [
       "<div>\n",
       "<style scoped>\n",
       "    .dataframe tbody tr th:only-of-type {\n",
       "        vertical-align: middle;\n",
       "    }\n",
       "\n",
       "    .dataframe tbody tr th {\n",
       "        vertical-align: top;\n",
       "    }\n",
       "\n",
       "    .dataframe thead th {\n",
       "        text-align: right;\n",
       "    }\n",
       "</style>\n",
       "<table border=\"1\" class=\"dataframe\">\n",
       "  <thead>\n",
       "    <tr style=\"text-align: right;\">\n",
       "      <th></th>\n",
       "      <th>tag</th>\n",
       "      <th>timestamp</th>\n",
       "      <th>longitude</th>\n",
       "      <th>latitude</th>\n",
       "      <th>uuid</th>\n",
       "      <th>type</th>\n",
       "    </tr>\n",
       "  </thead>\n",
       "  <tbody>\n",
       "    <tr>\n",
       "      <th>0</th>\n",
       "      <td>outbound</td>\n",
       "      <td>1423291063</td>\n",
       "      <td>144.744650</td>\n",
       "      <td>44.028953</td>\n",
       "      <td>mmsi1</td>\n",
       "      <td>vessel</td>\n",
       "    </tr>\n",
       "    <tr>\n",
       "      <th>1</th>\n",
       "      <td>outbound</td>\n",
       "      <td>1423291205</td>\n",
       "      <td>144.533270</td>\n",
       "      <td>43.732336</td>\n",
       "      <td>mmsi1</td>\n",
       "      <td>vessel</td>\n",
       "    </tr>\n",
       "    <tr>\n",
       "      <th>2</th>\n",
       "      <td>outbound</td>\n",
       "      <td>1423291311</td>\n",
       "      <td>143.884993</td>\n",
       "      <td>44.103033</td>\n",
       "      <td>mmsi1</td>\n",
       "      <td>vessel</td>\n",
       "    </tr>\n",
       "    <tr>\n",
       "      <th>3</th>\n",
       "      <td>outbound</td>\n",
       "      <td>1423291767</td>\n",
       "      <td>143.957997</td>\n",
       "      <td>43.818445</td>\n",
       "      <td>mmsi1</td>\n",
       "      <td>vessel</td>\n",
       "    </tr>\n",
       "    <tr>\n",
       "      <th>4</th>\n",
       "      <td>outbound</td>\n",
       "      <td>1423291901</td>\n",
       "      <td>144.119650</td>\n",
       "      <td>44.089645</td>\n",
       "      <td>mmsi1</td>\n",
       "      <td>vessel</td>\n",
       "    </tr>\n",
       "  </tbody>\n",
       "</table>\n",
       "</div>"
      ],
      "text/plain": [
       "        tag   timestamp   longitude   latitude   uuid    type\n",
       "0  outbound  1423291063  144.744650  44.028953  mmsi1  vessel\n",
       "1  outbound  1423291205  144.533270  43.732336  mmsi1  vessel\n",
       "2  outbound  1423291311  143.884993  44.103033  mmsi1  vessel\n",
       "3  outbound  1423291767  143.957997  43.818445  mmsi1  vessel\n",
       "4  outbound  1423291901  144.119650  44.089645  mmsi1  vessel"
      ]
     },
     "execution_count": 10,
     "metadata": {},
     "output_type": "execute_result"
    }
   ],
   "source": [
    "total_rows.head()"
   ]
  },
  {
   "cell_type": "code",
   "execution_count": 21,
   "metadata": {},
   "outputs": [
    {
     "name": "stdout",
     "output_type": "stream",
     "text": [
      "2015-02-04T17:45:20\n"
     ]
    },
    {
     "data": {
      "text/plain": [
       "'2015-02-04-17'"
      ]
     },
     "execution_count": 21,
     "metadata": {},
     "output_type": "execute_result"
    }
   ],
   "source": [
    "d = datetime.datetime.fromtimestamp(1423043120)\n",
    "print(d.isoformat())\n",
    "d.strftime('%Y-%m-%d-%H')"
   ]
  },
  {
   "cell_type": "code",
   "execution_count": 23,
   "metadata": {},
   "outputs": [],
   "source": [
    "datestr = total_rows.timestamp.map(lambda row: datetime.datetime.fromtimestamp(row).strftime('%Y-%m-%d-%H'))"
   ]
  },
  {
   "cell_type": "code",
   "execution_count": 24,
   "metadata": {},
   "outputs": [],
   "source": [
    "total_rows['datestr'] = datestr"
   ]
  },
  {
   "cell_type": "code",
   "execution_count": 11,
   "metadata": {},
   "outputs": [],
   "source": [
    "total_rows.to_csv('vessels_50.csv', index=False)"
   ]
  },
  {
   "cell_type": "code",
   "execution_count": null,
   "metadata": {},
   "outputs": [],
   "source": []
  }
 ],
 "metadata": {
  "kernelspec": {
   "display_name": "ryan.conda.py3",
   "language": "python",
   "name": "ryan.conda.py3"
  },
  "language_info": {
   "codemirror_mode": {
    "name": "ipython",
    "version": 3
   },
   "file_extension": ".py",
   "mimetype": "text/x-python",
   "name": "python",
   "nbconvert_exporter": "python",
   "pygments_lexer": "ipython3",
   "version": "3.6.3"
  }
 },
 "nbformat": 4,
 "nbformat_minor": 2
}
